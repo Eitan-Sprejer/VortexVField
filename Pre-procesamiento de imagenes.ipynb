{
 "cells": [
  {
   "cell_type": "code",
   "execution_count": 4,
   "id": "4745e56f",
   "metadata": {},
   "outputs": [],
   "source": [
    "from __future__ import print_function\n",
    "import cv2 as cv\n",
    "import argparse\n",
    "import numpy as np"
   ]
  },
  {
   "cell_type": "code",
   "execution_count": 10,
   "id": "037e974a",
   "metadata": {},
   "outputs": [],
   "source": [
    "def pre_process(dir, file_name, folder=\"\", method=\"KNN\", filter_color=False):\n",
    "    \"\"\"Process each individual frame of a video, generating a high contrast set of frames.\n",
    "    It removes the background and light reflections on the surface of the fluid, with an optional feature of removing the color.\n",
    "    It's configured to filter all non-blue color by default. To remove another, modify the lower_color and upper_color variables.\"\"\"\n",
    "    \n",
    "    ### Choosing method selected for the background substractor object\n",
    "    if method == \"MOG2\":\n",
    "        backSub = cv.createBackgroundSubtractorMOG2(detectShadows=False)\n",
    "    if method == \"KNN\":\n",
    "        backSub = cv.createBackgroundSubtractorKNN(detectShadows=False)\n",
    "    else:\n",
    "        raise(Exception(\"Invalid method name\"))\n",
    "    \n",
    "    capture = cv.VideoCapture(cv.samples.findFileOrKeep(dir+\"/\"+file_name))\n",
    "\n",
    "    i = 0 ### Initialazing iterable variable\n",
    "     \n",
    "    Masks = [] ### Initialazing mask list for saving each mask (i.e. Image matrix comprised of 0s and 255s, black and white.)\n",
    "    if not capture.isOpened():\n",
    "        raise(Exception(\"Unable to open file\"))\n",
    "    while True:\n",
    "        ret, frame = capture.read() ### Reads each frame of the video\n",
    "        if frame is None:\n",
    "            break\n",
    "        \n",
    "        fgMask = backSub.apply(frame) ### Substract background\n",
    "        \n",
    "        cv.rectangle(frame, (10, 2), (100,20), (255,255,255), -1)\n",
    "        cv.putText(frame, str(capture.get(cv.CAP_PROP_POS_FRAMES)), (15, 15),\n",
    "        cv.FONT_HERSHEY_SIMPLEX, 0.5 , (0,0,0))\n",
    "        \n",
    "\n",
    "\n",
    "        res1 = cv.bitwise_and(frame, frame, mask=fgMask)\n",
    "\n",
    "        gray = cv.cvtColor(res1, cv.COLOR_BGR2GRAY)\n",
    "\n",
    "        # threshold grayscale image to extract glare\n",
    "        mask = cv.threshold(gray, 220, 255, cv.THRESH_BINARY)[1]\n",
    "        res2 = cv.inpaint(res1, mask, 21, cv.INPAINT_TELEA) \n",
    "\n",
    "        if filter_color:\n",
    "\n",
    "            ### convert the BGR image to HSV colour space\n",
    "            hsv = cv.cvtColor(res2, cv.COLOR_BGR2HSV)\n",
    "\n",
    "            ### set the lower and upper bounds for the color hue\n",
    "            lower_color = np.array([60, 35, 140])\n",
    "            upper_color = np.array([180, 255, 255])\n",
    " \n",
    "            ### create a mask for color colour using inRange function\n",
    "            mask = cv.inRange(hsv, lower_color, upper_color)\n",
    "\n",
    "            ### perform bitwise and on the original image arrays using the mask\n",
    "            res3 = cv.bitwise_and(res2, res2, mask=mask)\n",
    "            \n",
    "            ### display original frame, and filtered black and white frame. \n",
    "            cv.imshow('Frame', frame)\n",
    "            cv.imshow('FG Mask', mask)\n",
    "\n",
    "            if i < 10:\n",
    "                imagen_numero = f\"000{i}.jpg\"\n",
    "            elif 100 > i >= 10:\n",
    "                imagen_numero = f\"00{i}.jpg\"\n",
    "            else:\n",
    "                imagen_numero = f\"0{i}.jpg\"\n",
    "\n",
    "            ### Save file\n",
    "            cv.imwrite(dir+folder+\"/\"+imagen_numero,res3)\n",
    "            i += 1\n",
    "\n",
    "        else:\n",
    "            ### display original frame, and filtered frame. \n",
    "            cv.imshow('Frame', frame)\n",
    "            cv.imshow('FG Mask', res2)\n",
    "\n",
    "            if i < 10:\n",
    "                imagen_numero = f\"000{i}.jpg\"\n",
    "            elif 100 > i >= 10:\n",
    "                imagen_numero = f\"00{i}.jpg\"\n",
    "            else:\n",
    "                imagen_numero = f\"0{i}.jpg\"\n",
    "            \n",
    "            ### Save file\n",
    "            cv.imwrite(dir+folder+\"/\"+imagen_numero,res2)\n",
    "            i += 1\n",
    "        \n",
    "        Masks.append(mask) ### Add mask to mask list\n",
    "        keyboard = cv.waitKey(30)\n",
    "        if keyboard == 'q' or keyboard == 27:\n",
    "            break\n",
    "        \n",
    "        ### Display progress\n",
    "        if i%20 == 0:\n",
    "            print(i)\n",
    "    return Masks"
   ]
  },
  {
   "cell_type": "markdown",
   "id": "74306437",
   "metadata": {},
   "source": [
    "### Particular example"
   ]
  },
  {
   "cell_type": "code",
   "execution_count": 11,
   "id": "6560e4a9",
   "metadata": {},
   "outputs": [
    {
     "name": "stdout",
     "output_type": "stream",
     "text": [
      "20\n",
      "40\n",
      "60\n",
      "80\n",
      "100\n",
      "120\n",
      "140\n",
      "160\n",
      "180\n",
      "200\n",
      "220\n",
      "240\n",
      "260\n",
      "280\n",
      "300\n",
      "320\n",
      "340\n",
      "360\n",
      "380\n",
      "400\n",
      "420\n",
      "440\n",
      "460\n",
      "480\n",
      "500\n",
      "520\n",
      "540\n",
      "560\n",
      "580\n",
      "600\n",
      "620\n",
      "640\n"
     ]
    }
   ],
   "source": [
    "dir = \"/Users/eitu/Documents/Facu/Labo5/Con colorante sin luces glitter\"\n",
    "folder = \"/prueba PIV casero jpg\"\n",
    "file_name = \"IMG_0239.mov\"\n",
    "method = \"KNN\"\n",
    "\n",
    "Masks = pre_process(dir=dir, file_name=file_name, folder=folder, method=method, filter_color=True)"
   ]
  },
  {
   "cell_type": "code",
   "execution_count": null,
   "id": "748387e9",
   "metadata": {},
   "outputs": [],
   "source": [
    "### Close all windows\n",
    "capture.release()\n",
    "video.release()\n",
    "cv.destroyAllWindows()\n",
    "cv.waitKey(1)"
   ]
  },
  {
   "cell_type": "markdown",
   "id": "9e8da054",
   "metadata": {},
   "source": [
    "### FALTA PIV manual"
   ]
  },
  {
   "cell_type": "code",
   "execution_count": 89,
   "id": "7970072e",
   "metadata": {},
   "outputs": [
    {
     "name": "stdout",
     "output_type": "stream",
     "text": [
      "[[0 0 0 ... 0 0 0]\n",
      " [0 0 0 ... 1 1 1]\n",
      " [0 0 0 ... 0 0 0]\n",
      " ...\n",
      " [0 0 0 ... 0 0 0]\n",
      " [0 0 0 ... 0 0 0]\n",
      " [0 0 0 ... 0 0 0]]\n",
      "------\n",
      "[[0 0 0 ... 0 0 0]\n",
      " [0 0 0 ... 2 2 0]\n",
      " [0 0 0 ... 0 0 0]\n",
      " ...\n",
      " [0 0 0 ... 0 0 0]\n",
      " [0 0 0 ... 0 0 0]\n",
      " [0 0 0 ... 0 0 0]]\n"
     ]
    }
   ],
   "source": [
    "test_mask = Masks[42]\n",
    "test_mask = test_mask/255\n",
    "test_mask = test_mask.astype(int)\n",
    "\n",
    "test_mask_islands = np.zeros_like(test_mask)\n",
    "\n",
    "for i in range(test_mask.shape[0]-1):\n",
    "    for j in range(test_mask.shape[1]-1):\n",
    "        if test_mask[i,j] == 1:\n",
    "            test_mask_islands[i, j] = test_mask[i+1, j] + test_mask_islands[i-1, j] + test_mask_islands[i, j+1] + test_mask_islands[i, j-1]\n",
    "\n",
    "print(test_mask)\n",
    "print(\"------\")\n",
    "print(test_mask_islands)\n",
    "\n",
    "# def find_centers(mask):"
   ]
  }
 ],
 "metadata": {
  "kernelspec": {
   "display_name": "Python 3.8.12 ('base')",
   "language": "python",
   "name": "python3"
  },
  "language_info": {
   "codemirror_mode": {
    "name": "ipython",
    "version": 3
   },
   "file_extension": ".py",
   "mimetype": "text/x-python",
   "name": "python",
   "nbconvert_exporter": "python",
   "pygments_lexer": "ipython3",
   "version": "3.8.12"
  },
  "vscode": {
   "interpreter": {
    "hash": "414fe1246e17574dcf403ecad4fffe6aac0c8108e805de661aaadfa091b9dd34"
   }
  }
 },
 "nbformat": 4,
 "nbformat_minor": 5
}
